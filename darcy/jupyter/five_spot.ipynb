{
 "cells": [
  {
   "cell_type": "markdown",
   "metadata": {},
   "source": [
    "# Five spot reservoir using Jutul\n",
    "We demonstrate a variant of a classical conceptual test case from reservoir simulation - the five-spot recovery strategy."
   ]
  },
  {
   "cell_type": "markdown",
   "metadata": {},
   "source": [
    "## Define static parameters and domain\n",
    "Our first goal is to set up the grid, petrophysical properties and the time period we want to simulate."
   ]
  },
  {
   "cell_type": "markdown",
   "metadata": {},
   "source": [
    "### Define grid and time period\n",
    "We begin by setting up a cartesian mesh together with a range of report steps that span five years, each made upf of 12 30 day months. The grid is 1000 by 1000 meters in the lateral direction and 50 meters in the vertical."
   ]
  },
  {
   "cell_type": "code",
   "execution_count": 1,
   "metadata": {},
   "outputs": [
    {
     "data": {
      "text/plain": [
       "CartesianMesh((20, 20, 2), (50.0, 50.0, 25.0), [0.0, 0.0, 0.0])"
      ]
     },
     "metadata": {},
     "output_type": "display_data"
    }
   ],
   "source": [
    "using JutulDarcy, Jutul\n",
    "nx = ny = 20\n",
    "nz = 2\n",
    "# Some useful constants\n",
    "day = 3600*24\n",
    "bar = 1e5\n",
    "# Define time-range for simulation\n",
    "dt = repeat([30.0]*day, 12*5)\n",
    "# Create mesh\n",
    "dims = (nx, ny, nz)\n",
    "g = CartesianMesh(dims, (1000.0, 1000.0, 50.0))"
   ]
  },
  {
   "cell_type": "markdown",
   "metadata": {},
   "source": [
    "### Define permeability\n",
    "We create a heterogeneous permeability and porosity field from a uniformly distributed porosity together with an empirical relationship for permeability as a function of pressure. This setup probably wouldn't yield a passing grade in any geostatistical course, but it does give a pretty picture."
   ]
  },
  {
   "cell_type": "code",
   "execution_count": 2,
   "metadata": {},
   "outputs": [],
   "source": [
    "Darcy = 9.869232667160130e-13\n",
    "nc = number_of_cells(g)\n",
    "phi = 0.2 .+ 0.1*rand(nc)\n",
    "K = @. phi^3*(1e-5)^2/(0.81*72*(1-phi)^2);"
   ]
  },
  {
   "cell_type": "markdown",
   "metadata": {},
   "source": [
    "### Define the wells\n",
    "We introduce four producers in each corner, and an injector in the middle of the domain using the `setup_vertical_well` helper function. At this stage, even if they have variable names that hint of their usage, we have not actually specified what these wells are going to do."
   ]
  },
  {
   "cell_type": "code",
   "execution_count": 3,
   "metadata": {},
   "outputs": [],
   "source": [
    "P_sw = setup_vertical_well(g, K, 1, 1, name = :SouthWest)\n",
    "P_se = setup_vertical_well(g, K, nx, 1, name = :SouthEast)\n",
    "P_ne = setup_vertical_well(g, K, 1, ny, name = :NorthEast)\n",
    "P_nw = setup_vertical_well(g, K, nx, ny, name = :NorthWest)\n",
    "I = setup_vertical_well(g, K, nx ÷ 2, ny ÷ 2, name = :Middle)\n",
    "wells = [I, P_sw, P_se, P_ne, P_nw];"
   ]
  },
  {
   "cell_type": "markdown",
   "metadata": {},
   "source": [
    "### Make a plot of our reservoir and the wells\n",
    "We verify that the wells are in the expected places, and that the permeability field looks to be the right magnitude for Darcy-type flow. We load the JutulViz package that allows for plotting of both the grid and wells, using GLMakie as the backend. There is, unfortunately, some compile time latency at this step.\n"
   ]
  },
  {
   "cell_type": "code",
   "execution_count": 4,
   "metadata": {},
   "outputs": [],
   "source": [
    "using JutulViz\n",
    "fig, ax, p = plot_cell_data(g, K/Darcy)\n",
    "for w in wells\n",
    "    plot_well!(ax, g, w, top_factor = 0.75, textscale = 0.1)\n",
    "end\n",
    "fig"
   ]
  },
  {
   "cell_type": "markdown",
   "metadata": {},
   "source": [
    "## Create a model and assign fluid properties\n",
    "We create a two-phase immiscible fluid system made up of water (aqueous) and oileic (liquid) phases. This model is often sufficient for describing waterflooding scenarios and requires very few inputs to parametrize. We also define reference densities, that correspond to the densities of these phases once brought to *reference conditions*, which are typically at a lower pressure than in the reservoir."
   ]
  },
  {
   "cell_type": "code",
   "execution_count": 5,
   "metadata": {},
   "outputs": [],
   "source": [
    "phases = (AqueousPhase(), LiquidPhase())\n",
    "sys = ImmiscibleSystem(phases)\n",
    "rhoOS = 730.0\n",
    "rhoWS = 1000.0\n",
    "rhoS = [rhoWS, rhoOS]\n",
    "model, parameters = setup_reservoir_model(g, sys, wells = wells, reference_densities = rhoS);"
   ]
  },
  {
   "cell_type": "markdown",
   "metadata": {},
   "source": [
    "The code has reasonable defaults that allow a simulation to run. Let us tweak the mass density function for the phases to be more like water and a light oil phase, and set up the relative permeability variables to follow a Brooks-Corey type relationship with exponents of 2 and 3 for water and oil, respectively and corresponding residual saturations of 0.1 and 0.2. In Jutul, all local properties are called variables. These may be denoted as primary variables (unknowns) or secondary variables (determined, fundamentally, from the primary variables and other secondary variables)."
   ]
  },
  {
   "cell_type": "code",
   "execution_count": 6,
   "metadata": {},
   "outputs": [
    {
     "data": {
      "text/plain": []
     },
     "metadata": {},
     "output_type": "display_data"
    },
    {
     "name": "stdout",
     "output_type": "stream",
     "text": [
      "MultiModel with 7 submodels:\n",
      "Reservoir: ImmiscibleSystem{Tuple{AqueousPhase, LiquidPhase}} ∈ MinimalTPFAGrid{Float64, Int64}\n",
      "Middle: ImmiscibleSystem{Tuple{AqueousPhase, LiquidPhase}} ∈ MultiSegmentWell\n",
      "SouthWest: ImmiscibleSystem{Tuple{AqueousPhase, LiquidPhase}} ∈ MultiSegmentWell\n",
      "SouthEast: ImmiscibleSystem{Tuple{AqueousPhase, LiquidPhase}} ∈ MultiSegmentWell\n",
      "NorthEast: ImmiscibleSystem{Tuple{AqueousPhase, LiquidPhase}} ∈ MultiSegmentWell\n",
      "NorthWest: ImmiscibleSystem{Tuple{AqueousPhase, LiquidPhase}} ∈ MultiSegmentWell\n",
      "Facility: PredictionMode ∈ WellGroup\n"
     ]
    }
   ],
   "source": [
    "c = [1e-6/bar, 1e-4/bar]\n",
    "ρ = ConstantCompressibilityDensities(p_ref = 1*bar, density_ref = rhoS, compressibility = c)\n",
    "kr = BrooksCoreyRelPerm(sys, [2.0, 3.0], [0.1, 0.2])\n",
    "replace_variables!(model, PhaseMassDensities = ρ, RelativePermeabilities = kr)"
   ]
  },
  {
   "cell_type": "markdown",
   "metadata": {},
   "source": [
    "## Define the operational schedule of the wells\n",
    "Our reservoir, wells and fluid model is now set up, but nothing much will happen if we were to simulate the current configuration. It is time to introduce a few operational controls to the wells. We let the middle well operate as an injector that injects a pure stream of water, corresponding to a full pore-volume at reference conditions injected over the full time period. The producers operate at fixed bottom hole pressure.\n",
    "\n",
    "Jutul supports advanced on limits on each well, and different controls for each report time step. Here, we make the simplified assumption that all wells operate at the same controls throughout the five years, and that the default limits that prevent producers from turning into injectors are sufficient to keep the scenario realistic."
   ]
  },
  {
   "cell_type": "code",
   "execution_count": 11,
   "metadata": {},
   "outputs": [],
   "source": [
    "reservoir = reservoir_model(model);\n",
    "pv = pore_volume(reservoir)\n",
    "inj_rate = sum(pv)/sum(dt)\n",
    "rate_target = TotalRateTarget(inj_rate)\n",
    "I_ctrl = InjectorControl(rate_target, [1.0, 0.0], density = rhoWS)\n",
    "# Define function to make bhp controls easy to setup\n",
    "bh_well(p) = ProducerControl(BottomHolePressureTarget(p*bar))\n",
    "\n",
    "controls = Dict()\n",
    "controls[:Middle] = I_ctrl\n",
    "controls[:SouthWest] = bh_well(50.0)\n",
    "controls[:SouthEast] = bh_well(55.0)\n",
    "controls[:NorthEast] = bh_well(45.0)\n",
    "controls[:NorthWest] = bh_well(75.0);"
   ]
  },
  {
   "cell_type": "markdown",
   "metadata": {},
   "source": [
    "## Perform a simulation"
   ]
  },
  {
   "cell_type": "markdown",
   "metadata": {},
   "source": [
    "### Define forces and initial state of the reservoir\n",
    "We assume a green field with no connate water, and let the reservoir be completely filled with oil with a constent pressure of 150 bar."
   ]
  },
  {
   "cell_type": "code",
   "execution_count": 8,
   "metadata": {},
   "outputs": [],
   "source": [
    "forces = setup_reservoir_forces(model, control = controls)\n",
    "state0 = setup_reservoir_state(model, Pressure = 150*bar, Saturations = [0.0, 1.0]);"
   ]
  },
  {
   "cell_type": "markdown",
   "metadata": {},
   "source": [
    "### Perform the simulation\n",
    "We set up a defaulted reservoir simulator and perform a simulation. We disable most output by setting a low `info_level` since we are using a notebook and not the REPL, but we also enable the end report to see a breakdown of nonlinear iterations and time taken. Increasing the `info_level` will yield detailed convergence reports for each solve."
   ]
  },
  {
   "cell_type": "code",
   "execution_count": 9,
   "metadata": {},
   "outputs": [
    {
     "name": "stdout",
     "output_type": "stream",
     "text": [
      "\u001b[1mNumber of iterations\u001b[0m\n",
      "╭────────────────┬──────────┬──────────────┬──────────────┬────────┬───────╮\n",
      "│\u001b[1m Type           \u001b[0m│\u001b[1m Avg/step \u001b[0m│\u001b[1m Avg/ministep \u001b[0m│\u001b[1m     Time per \u001b[0m│\u001b[1m Wasted \u001b[0m│\u001b[1m Total \u001b[0m│\n",
      "│\u001b[1m                \u001b[0m│\u001b[90m 60 steps \u001b[0m│\u001b[90m 67 ministeps \u001b[0m│\u001b[90m Milliseconds \u001b[0m│\u001b[90m        \u001b[0m│\u001b[90m       \u001b[0m│\n",
      "├────────────────┼──────────┼──────────────┼──────────────┼────────┼───────┤\n",
      "│\u001b[1m Newtons        \u001b[0m│  3.96667 │      3.55224 │     246.7157 │      0 │   238 │\n",
      "│\u001b[1m Linearizations \u001b[0m│  5.08333 │      4.55224 │     192.5191 │      0 │   305 │\n",
      "╰────────────────┴──────────┴──────────────┴──────────────┴────────┴───────╯\n",
      "\u001b[1mSimulator timing\u001b[0m\n",
      "╭──────────────┬──────────────┬──────────┬─────────╮\n",
      "│\u001b[1m Name         \u001b[0m│\u001b[1m         Each \u001b[0m│\u001b[1m Fraction \u001b[0m│\u001b[1m   Total \u001b[0m│\n",
      "│\u001b[1m              \u001b[0m│\u001b[90m Milliseconds \u001b[0m│\u001b[90m  Percent \u001b[0m│\u001b[90m Seconds \u001b[0m│\n",
      "├──────────────┼──────────────┼──────────┼─────────┤\n",
      "│\u001b[1m Properties   \u001b[0m│      52.4174 │  27.23 % │ 15.9873 │\n",
      "│\u001b[1m Assembly     \u001b[0m│       7.7727 │   4.04 % │  2.3707 │\n",
      "│\u001b[1m Linear solve \u001b[0m│      71.4066 │  28.94 % │ 16.9948 │\n",
      "│\u001b[1m Update       \u001b[0m│      37.5493 │  15.22 % │  8.9367 │\n",
      "│\u001b[1m Convergence  \u001b[0m│      35.9185 │  18.66 % │ 10.9551 │\n",
      "│\u001b[1m Input/Output \u001b[0m│       0.5251 │   0.06 % │  0.0352 │\n",
      "│\u001b[1m Other        \u001b[0m│      14.4476 │   5.86 % │  3.4385 │\n",
      "├──────────────┼──────────────┼──────────┼─────────┤\n",
      "│\u001b[1m Total        \u001b[0m│     246.7157 │ 100.00 % │ 58.7183 │\n",
      "╰──────────────┴──────────────┴──────────┴─────────╯\n"
     ]
    },
    {
     "name": "stderr",
     "output_type": "stream",
     "text": [
      "┌ Warning: Linear solver: Breakdown bᵀc = 0, final residual: 11.36619096339332, rel. value 1.0. rtol = 0.005, atol = 0.0, max_it = 200, solver = bicgstab\n",
      "└ @ Jutul C:\\Users\\olavm\\.julia\\dev\\Jutul\\src\\linsolve\\krylov.jl:145\n"
     ]
    }
   ],
   "source": [
    "sim, config = setup_reservoir_simulator(model, state0, parameters, info_level = -1, end_report = true)\n",
    "states, reports = simulate!(sim, dt, forces = forces, config = config);"
   ]
  },
  {
   "cell_type": "markdown",
   "metadata": {},
   "source": [
    "### Plot the results"
   ]
  },
  {
   "cell_type": "code",
   "execution_count": 10,
   "metadata": {},
   "outputs": [
    {
     "data": {
      "text/plain": [
       "GLMakie.Screen(...)"
      ]
     },
     "metadata": {},
     "output_type": "display_data"
    }
   ],
   "source": [
    "f, = plot_interactive(g, map(x -> x[:Reservoir], states))\n",
    "display(f)"
   ]
  }
 ],
 "metadata": {
  "kernelspec": {
   "display_name": "Julia 1.7.2",
   "language": "julia",
   "name": "julia-1.7"
  },
  "language_info": {
   "file_extension": ".jl",
   "mimetype": "application/julia",
   "name": "julia",
   "version": "1.7.2"
  },
  "orig_nbformat": 4
 },
 "nbformat": 4,
 "nbformat_minor": 2
}
