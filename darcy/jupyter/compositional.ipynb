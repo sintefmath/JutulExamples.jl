{
 "cells": [
  {
   "cell_type": "markdown",
   "metadata": {},
   "source": [
    "# Multi-component flow with Jutul"
   ]
  },
  {
   "cell_type": "markdown",
   "metadata": {},
   "source": [
    "## Load the MultiComponentFlash module and define a three-component mixture\n",
    "The equation-of-state defaults to Peng-Robinson. Components are defined by their molar mass, their critical pressure and temperature, their critical volume and their acentric factors."
   ]
  },
  {
   "cell_type": "code",
   "execution_count": null,
   "metadata": {},
   "outputs": [],
   "source": [
    "using MultiComponentFlash\n",
    "co2 = MolecularProperty(0.0440, 7.38e6, 304.1, 9.412e-5, 0.224)\n",
    "c1 = MolecularProperty(0.0160, 4.60e6, 190.6, 9.863e-5, 0.011)\n",
    "c10 = MolecularProperty(0.0142, 2.10e6, 617.7, 6.098e-4, 0.488)\n",
    "\n",
    "mixture = MultiComponentMixture([co2, c1, c10], names = [\"CO2\", \"C1\", \"C10\"])\n",
    "eos = GenericCubicEOS(mixture);"
   ]
  },
  {
   "cell_type": "markdown",
   "metadata": {},
   "source": [
    "## Define a 1D Jutul mesh"
   ]
  },
  {
   "cell_type": "code",
   "execution_count": null,
   "metadata": {},
   "outputs": [],
   "source": [
    "using Jutul, JutulDarcy\n",
    "nx = 1000\n",
    "ny = nz = 1\n",
    "bar = 1e5\n",
    "dims = (nx, ny, nz)\n",
    "g = CartesianMesh(dims, (2000.0, 1500.0, 50.0))\n",
    "nc = number_of_cells(g)\n",
    "K = repeat([1e-13], nc)\n",
    "## Set up a vertical well in the first corner, perforated in all layers\n",
    "prod = setup_vertical_well(g, K, nx, 1, name = :Producer);\n",
    "## Set up an injector in the upper left corner\n",
    "inj = setup_vertical_well(g, K, 1, 1, name = :Injector);"
   ]
  },
  {
   "cell_type": "markdown",
   "metadata": {},
   "source": [
    "## Create a compositional system and set up the reservoir model"
   ]
  },
  {
   "cell_type": "code",
   "execution_count": null,
   "metadata": {},
   "outputs": [],
   "source": [
    "rhoLS, rhoVS = 1000.0, 100.0\n",
    "rhoS = [rhoLS, rhoVS]\n",
    "L, V = LiquidPhase(), VaporPhase()\n",
    "# Define system and realize on grid\n",
    "sys = MultiPhaseCompositionalSystemLV(eos, (L, V))\n",
    "model, parameters = setup_reservoir_model(g, sys, wells = [inj, prod], reference_densities = rhoS, block_backend = true);\n",
    "state0 = setup_reservoir_state(model, Pressure = 150*bar, OverallMoleFractions = [0.5, 0.3, 0.2])"
   ]
  },
  {
   "cell_type": "markdown",
   "metadata": {},
   "source": [
    "### Define injection schedule"
   ]
  },
  {
   "cell_type": "code",
   "execution_count": null,
   "metadata": {},
   "outputs": [],
   "source": [
    "day = 365*3600.0\n",
    "dt = repeat([5.0]*day, 500)\n",
    "reservoir = reservoir_model(model);\n",
    "pv = pore_volume(model)\n",
    "inj_rate = sum(pv)/sum(dt)\n",
    "rate_target = TotalRateTarget(inj_rate)\n",
    "ϵ = 1e-3\n",
    "I_ctrl = InjectorControl(rate_target, [1.0 - 2*ϵ, ϵ, ϵ], density = rhoVS)\n",
    "bhp_target = BottomHolePressureTarget(50*bar)\n",
    "P_ctrl = ProducerControl(bhp_target)\n",
    "\n",
    "controls = Dict()\n",
    "controls[:Injector] = I_ctrl\n",
    "controls[:Producer] = P_ctrl\n",
    "forces = setup_reservoir_forces(model, control = controls);"
   ]
  },
  {
   "cell_type": "markdown",
   "metadata": {},
   "source": [
    "### Run the simulation"
   ]
  },
  {
   "cell_type": "code",
   "execution_count": 38,
   "metadata": {},
   "outputs": [],
   "source": [
    "sim, config = setup_reservoir_simulator(model, state0, parameters)\n",
    "states, reports = simulate!(sim, dt, forces = forces, config = config);"
   ]
  },
  {
   "cell_type": "markdown",
   "metadata": {},
   "source": [
    "### Plot the mole fractions at the end of the simulation"
   ]
  },
  {
   "cell_type": "code",
   "execution_count": null,
   "metadata": {},
   "outputs": [],
   "source": [
    "using CairoMakie\n",
    "fig, ax, sp = series(1:nc, states[end][:Reservoir][:OverallMoleFractions], labels = mixture.component_names)\n",
    "axislegend(ax)\n",
    "fig"
   ]
  }
 ],
 "metadata": {
  "kernelspec": {
   "display_name": "Julia 1.7.2",
   "language": "julia",
   "name": "julia-1.7"
  },
  "language_info": {
   "file_extension": ".jl",
   "mimetype": "application/julia",
   "name": "julia",
   "version": "1.7.2"
  },
  "orig_nbformat": 4
 },
 "nbformat": 4,
 "nbformat_minor": 2
}
